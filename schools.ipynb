{
 "cells": [
  {
   "cell_type": "code",
   "execution_count": 2,
   "metadata": {},
   "outputs": [],
   "source": [
    "import pandas as pd\n",
    "import csv\n",
    "import numpy as np\n",
    "import glob"
   ]
  },
  {
   "cell_type": "code",
   "execution_count": 3,
   "metadata": {},
   "outputs": [],
   "source": [
    "students=pd.read_csv('students_complete.csv')\n",
    "schools=pd.read_csv('schools_complete.csv')\n",
    "joined=pd.merge(schools, students, how='outer', left_on=\"School ID\", right_on=\"Student ID\",\n",
    "                 suffixes=('_school', '_student'))\n",
    "joined['budget'] = pd.to_numeric(joined['budget'], errors='coerce')\n",
    "joined['size'] = pd.to_numeric(joined['size'], errors='coerce')\n",
    "joined=joined.replace(np.nan,\" \" , regex=True)"
   ]
  },
  {
   "cell_type": "code",
   "execution_count": 4,
   "metadata": {},
   "outputs": [],
   "source": [
    "joined['math_status'] =  joined['math_score'].map(lambda x: 'passed' if x >= 70 else 'failed')\n",
    "joined['reading_status'] =  joined['reading_score'].map(lambda x: 'passed' if x >= 70 else 'failed')"
   ]
  },
  {
   "cell_type": "code",
   "execution_count": 5,
   "metadata": {},
   "outputs": [],
   "source": [
    "pc_passedmath=(len(joined.groupby(['math_status']).groups['passed'])/len(joined))*100\n",
    "pc_passedreading= (len(joined.groupby(['reading_status']).groups['passed'])/len(joined))*100\n",
    "overallpassing_rate= ((pc_passedmath+pc_passedreading)/2)\n",
    "def number_format(amount):\n",
    "    if amount >= 0:\n",
    "        return '{:.2f}'.format(amount)\n",
    "    else:\n",
    "        return '-{:.2f}'.format(-amount)"
   ]
  },
  {
   "cell_type": "code",
   "execution_count": 6,
   "metadata": {},
   "outputs": [],
   "source": [
    "summery_stat = {'Total Number of Schools': len(schools),\n",
    "              'Total Number of Students': len(students),\n",
    "              'Total Budget': number_format(schools.budget.sum()),\n",
    "              'Average Math Score': number_format(joined.math_score.mean()), \n",
    "              'Average Reading Score': number_format(joined.reading_score.mean()),\n",
    "              '% passing Reading':'{:.2f}%'.format(pc_passedreading),\n",
    "              '% Passing Math':'{:.2f}%'.format(pc_passedmath),\n",
    "              'Overall passing Rate':'{:.2f}%'.format(overallpassing_rate)}"
   ]
  },
  {
   "cell_type": "code",
   "execution_count": 7,
   "metadata": {},
   "outputs": [
    {
     "data": {
      "text/html": [
       "<div>\n",
       "<style scoped>\n",
       "    .dataframe tbody tr th:only-of-type {\n",
       "        vertical-align: middle;\n",
       "    }\n",
       "\n",
       "    .dataframe tbody tr th {\n",
       "        vertical-align: top;\n",
       "    }\n",
       "\n",
       "    .dataframe thead th {\n",
       "        text-align: right;\n",
       "    }\n",
       "</style>\n",
       "<table border=\"1\" class=\"dataframe\">\n",
       "  <thead>\n",
       "    <tr style=\"text-align: right;\">\n",
       "      <th></th>\n",
       "      <th>Total Number of Schools</th>\n",
       "      <th>Total Number of Students</th>\n",
       "      <th>Total Budget</th>\n",
       "      <th>Average Math Score</th>\n",
       "      <th>Average Reading Score</th>\n",
       "      <th>% passing Reading</th>\n",
       "      <th>% Passing Math</th>\n",
       "      <th>Overall passing Rate</th>\n",
       "    </tr>\n",
       "  </thead>\n",
       "  <tbody>\n",
       "    <tr>\n",
       "      <th>0</th>\n",
       "      <td>15</td>\n",
       "      <td>39170</td>\n",
       "      <td>24649428.00</td>\n",
       "      <td>78.99</td>\n",
       "      <td>81.88</td>\n",
       "      <td>85.81%</td>\n",
       "      <td>74.98%</td>\n",
       "      <td>80.39%</td>\n",
       "    </tr>\n",
       "  </tbody>\n",
       "</table>\n",
       "</div>"
      ],
      "text/plain": [
       "  Total Number of Schools Total Number of Students Total Budget  \\\n",
       "0                      15                    39170  24649428.00   \n",
       "\n",
       "  Average Math Score Average Reading Score % passing Reading % Passing Math  \\\n",
       "0              78.99                 81.88            85.81%         74.98%   \n",
       "\n",
       "  Overall passing Rate  \n",
       "0               80.39%  "
      ]
     },
     "execution_count": 7,
     "metadata": {},
     "output_type": "execute_result"
    }
   ],
   "source": [
    "pd.DataFrame.from_dict(summery_stat, orient='index').T # Distric summary"
   ]
  },
  {
   "cell_type": "code",
   "execution_count": null,
   "metadata": {},
   "outputs": [],
   "source": []
  }
 ],
 "metadata": {
  "kernelspec": {
   "display_name": "Python 3",
   "language": "python",
   "name": "python3"
  },
  "language_info": {
   "codemirror_mode": {
    "name": "ipython",
    "version": 3
   },
   "file_extension": ".py",
   "mimetype": "text/x-python",
   "name": "python",
   "nbconvert_exporter": "python",
   "pygments_lexer": "ipython3",
   "version": "3.6.4"
  }
 },
 "nbformat": 4,
 "nbformat_minor": 2
}
